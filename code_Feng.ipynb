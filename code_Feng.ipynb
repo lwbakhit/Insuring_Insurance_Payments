{
 "cells": [
  {
   "cell_type": "code",
   "execution_count": 19,
   "metadata": {},
   "outputs": [],
   "source": [
    "import alpaca_trade_api as tradeapi\n",
    "import requests\n",
    "from dotenv import load_dotenv\n",
    "import pandas as pd\n",
    "import os"
   ]
  },
  {
   "cell_type": "code",
   "execution_count": 20,
   "metadata": {},
   "outputs": [
    {
     "data": {
      "text/plain": [
       "True"
      ]
     },
     "execution_count": 20,
     "metadata": {},
     "output_type": "execute_result"
    }
   ],
   "source": [
    "load_dotenv()"
   ]
  },
  {
   "cell_type": "code",
   "execution_count": 21,
   "metadata": {},
   "outputs": [
    {
     "name": "stdout",
     "output_type": "stream",
     "text": [
      "PKMMKPPSHP5TSRX29TNT\n"
     ]
    }
   ],
   "source": [
    "alpaca_api_key = os.getenv(\"ALPACA_API_KEY\")\n",
    "alpaca_secret_key = os.getenv(\"ALPACA_SECRET_KEY\")\n",
    "print(alpaca_api_key)"
   ]
  },
  {
   "cell_type": "code",
   "execution_count": 37,
   "metadata": {},
   "outputs": [],
   "source": [
    "alpaca = tradeapi.REST(\n",
    "    alpaca_api_key,\n",
    "    alpaca_secret_key,\n",
    "    api_version=\"v2\")\n",
    "\n",
    "# Format current date as ISO format\n",
    "start_date = pd.Timestamp(\"2011-05-01\", tz=\"America/New_York\").isoformat()\n",
    "today = pd.Timestamp(\"2020-12-02\", tz=\"America/New_York\").isoformat()\n",
    "\n",
    "# Set the tickers\n",
    "tickers = [\"SPY\", \"QQQ\", \"VTI\",\n",
    "           \"SPBO\", \"JNK\", \"LQD\",\n",
    "           \"IYR\", \"VNQ\", \"USRT\",\n",
    "           \"PSP\", \"USO\", \"GLD\",\n",
    "           \"MUB\", \"MUNI\", \"PZA\",\n",
    "           \"VMBS\", \"MBB\", \"MBG\",\n",
    "           \"TLT\", \"SCHO\", \"SHY\"\n",
    "          ]\n",
    "\n",
    "# Set timeframe to '1D' for Alpaca API\n",
    "timeframe = \"1D\"\n",
    "\n",
    "# Get closing prices\n",
    "df_ETFs = alpaca.get_barset(\n",
    "    tickers,\n",
    "    timeframe,\n",
    "    start = start_date,\n",
    "    end = today\n",
    ").df\n",
    "\n",
    "# Preview DataFrame\n",
    "# YOUR CODE HERE!\n",
    "df_ETFs.head()\n",
    "\n",
    "# Output the data to CSV\n",
    "df_ETFs.to_csv(\"Resources/ETFs.csv\", encoding='utf-8', index=True)"
   ]
  },
  {
   "cell_type": "code",
   "execution_count": 39,
   "metadata": {},
   "outputs": [],
   "source": [
    "import quandl\n",
    "api_key_QD = os.getenv(\"QUANDL_API_KEY\")\n",
    "BTC_data = quandl.get('BCHAIN/MKPRU', start_date='2011-05-01', end_date='2021-01-16',authtoken=api_key_QD)\n",
    "#USTREASURY_data.to_csv('Resources/USTREASURY1.csv', encoding='utf-8', index=True)\n",
    "BTC_data.tail()\n",
    "BTC_data.to_csv(\"Resources/BTC.csv\", encoding='utf-8', index=True)"
   ]
  },
  {
   "cell_type": "code",
   "execution_count": null,
   "metadata": {},
   "outputs": [],
   "source": []
  }
 ],
 "metadata": {
  "kernelspec": {
   "display_name": "Python 3",
   "language": "python",
   "name": "python3"
  },
  "language_info": {
   "codemirror_mode": {
    "name": "ipython",
    "version": 3
   },
   "file_extension": ".py",
   "mimetype": "text/x-python",
   "name": "python",
   "nbconvert_exporter": "python",
   "pygments_lexer": "ipython3",
   "version": "3.8.3"
  }
 },
 "nbformat": 4,
 "nbformat_minor": 4
}
